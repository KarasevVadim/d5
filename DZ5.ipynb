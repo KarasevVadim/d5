{
 "cells": [
  {
   "cell_type": "markdown",
   "metadata": {},
   "source": [
    "# Домашнее задание\n",
    "1. Переведите содержимое файла purchase_log.txt в словарь purchases вида:\n",
    "```python\n",
    "{'1840e0b9d4': 'Продукты', ...}\n",
    "```\n",
    "\n",
    "2. Для каждого user_id в файле visit_log.csv добавьте третий столбец с категорией покупки (если покупка была).\n",
    "\n",
    "3. Запишите в файл funnel.csv визиты из файла visit_log.csv, в которых были покупки с указанием категории.\n",
    "\n",
    "Учтите условия на данные:\n",
    "- содержимое purchase_log.txt помещается в оперативную память компьютера\n",
    "- содержимое visit_log.csv - нет; используйте только построчную обработку этого файла"
   ]
  },
  {
   "cell_type": "code",
   "execution_count": 3,
   "metadata": {},
   "outputs": [
    {
     "name": "stdout",
     "output_type": "stream",
     "text": [
      "{'user_id': 'user_id', 'category': 'category'}\n",
      "{\"user_id\": \"user_id\", \"category\": \"category\"}\n",
      "\n",
      "{'user_id': '1840e0b9d4', 'category': 'РџСЂРѕРґСѓРєС‚С‹'}\n",
      "{\"user_id\": \"1840e0b9d4\", \"category\": \"РџСЂРѕРґСѓРєС‚С‹\"}\n",
      "\n",
      "{'user_id': '4e4f90fcfb', 'category': 'Р\\xadР»РµРєС‚СЂРѕРЅРёРєР°'}\n",
      "{\"user_id\": \"4e4f90fcfb\", \"category\": \"Р­Р»РµРєС‚СЂРѕРЅРёРєР°\"}\n",
      "\n",
      "{'user_id': 'afea8d72fc', 'category': 'Р\\xadР»РµРєС‚СЂРѕРЅРёРєР°'}\n",
      "{\"user_id\": \"afea8d72fc\", \"category\": \"Р­Р»РµРєС‚СЂРѕРЅРёРєР°\"}\n",
      "\n",
      "{'user_id': '373a6055fe', 'category': 'Р‘С‹С‚РѕРІР°СЏ С‚РµС…РЅРёРєР°'}\n",
      "{\"user_id\": \"373a6055fe\", \"category\": \"Р‘С‹С‚РѕРІР°СЏ С‚РµС…РЅРёРєР°\"}\n",
      "\n",
      "{'user_id': '9b2ab046f3', 'category': 'Р\\xadР»РµРєС‚СЂРѕРЅРёРєР°'}\n",
      "{\"user_id\": \"9b2ab046f3\", \"category\": \"Р­Р»РµРєС‚СЂРѕРЅРёРєР°\"}\n",
      "\n"
     ]
    }
   ],
   "source": [
    "import json\n",
    "i=0\n",
    "with open('purchase_log.txt') as f:\n",
    "    for line in f:\n",
    "        dict_=json.loads(line)\n",
    "        print(dict_)\n",
    "        print (line)\n",
    "        \n",
    "        i += 1\n",
    "        if i > 5:\n",
    "            break\n",
    "    "
   ]
  },
  {
   "cell_type": "markdown",
   "metadata": {},
   "source": [
    "\n"
   ]
  },
  {
   "cell_type": "code",
   "execution_count": 16,
   "metadata": {},
   "outputs": [
    {
     "name": "stdout",
     "output_type": "stream",
     "text": [
      "51\n",
      "--- 53.5113263130188 seconds ---\n"
     ]
    }
   ],
   "source": [
    "#33333333\n",
    "import json\n",
    "import time\n",
    "start_time = time.time()\n",
    "i=0\n",
    " \n",
    "\n",
    "\n",
    "\n",
    "    #  специально для записи открываю новый файл, чтобы не портить исх в процессе отладки\n",
    "    # \n",
    "    #\n",
    "    # задачи 2 и 3 объединены в один код\n",
    "    #\n",
    "    \n",
    "with open('visit_log2.csv','w') as ww, open('funnel.csv','w') as fu, open('visit_log.csv') as ff:\n",
    "\n",
    "\n",
    "    for ll in ff:\n",
    "\n",
    "        with open('purchase_log.txt',encoding='utf8') as f:\n",
    "            for line in f:\n",
    "\n",
    "                dict_=json.loads(line)\n",
    "\n",
    "\n",
    "                if dict_['user_id'] in ll:\n",
    "                    #print(ll,dict_)\n",
    "                    ll=ll.strip()+','+dict_['category']+'\\n'\n",
    "                    fu.write(ll)\n",
    "\n",
    "        #print(ll)\n",
    "        ww.write(ll)\n",
    "        \n",
    "\n",
    "        i += 1\n",
    "        if i > 50:\n",
    "            \n",
    "            break\n",
    "            \n",
    "    print(i)\n",
    "    print(\"--- %s seconds ---\" % (time.time() - start_time))\n",
    "#--------------------------------------------------\n",
    "#скорость жуткая. примерно 1 внешний цикл в сек. На 200 тыс строк это 55 часов)        \n",
    "#51\n",
    "#--- 53.5113263130188 seconds ---        \n",
    "\n"
   ]
  },
  {
   "cell_type": "code",
   "execution_count": null,
   "metadata": {},
   "outputs": [],
   "source": []
  }
 ],
 "metadata": {
  "kernelspec": {
   "display_name": "Python 3",
   "language": "python",
   "name": "python3"
  },
  "language_info": {
   "codemirror_mode": {
    "name": "ipython",
    "version": 3
   },
   "file_extension": ".py",
   "mimetype": "text/x-python",
   "name": "python",
   "nbconvert_exporter": "python",
   "pygments_lexer": "ipython3",
   "version": "3.7.3"
  }
 },
 "nbformat": 4,
 "nbformat_minor": 2
}
